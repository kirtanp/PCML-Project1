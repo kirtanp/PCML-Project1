{
 "cells": [
  {
   "cell_type": "code",
   "execution_count": 1,
   "metadata": {
    "collapsed": false
   },
   "outputs": [],
   "source": [
    "# Useful starting lines\n",
    "%matplotlib inline\n",
    "import numpy as np\n",
    "import matplotlib.pyplot as plt\n",
    "%load_ext autoreload\n",
    "%autoreload 2\n",
    "from helpers import *\n",
    "from proj1_helpers import *\n",
    "from costs import *\n"
   ]
  },
  {
   "cell_type": "markdown",
   "metadata": {},
   "source": [
    "## Load the training data into feature matrix, class labels, and event ids:"
   ]
  },
  {
   "cell_type": "code",
   "execution_count": 63,
   "metadata": {
    "collapsed": false
   },
   "outputs": [],
   "source": [
    "\n",
    "DATA_TRAIN_PATH = '../Data/train.csv' # TODO: add a file Data-Project1 with the train data \n",
    "y, tX, ids = load_csv_data(DATA_TRAIN_PATH)"
   ]
  },
  {
   "cell_type": "markdown",
   "metadata": {},
   "source": [
    "# Preprocess the data"
   ]
  },
  {
   "cell_type": "code",
   "execution_count": 64,
   "metadata": {
    "collapsed": true
   },
   "outputs": [],
   "source": [
    "# Delete the outliers with the median\n",
    "def delete_outliers(tX):\n",
    "    for idx_feature in range(tX.shape[1]):\n",
    "        tX_feature = tX[:,idx_feature]\n",
    "        median = np.median(tX_feature[np.where(tX_feature != -999)])\n",
    "        new = np.where(tX_feature == -999, median, tX_feature)\n",
    "        tX[:, idx_feature] = np.copy(new)\n",
    "    return tX"
   ]
  },
  {
   "cell_type": "code",
   "execution_count": 65,
   "metadata": {
    "collapsed": true
   },
   "outputs": [],
   "source": [
    "tX = delete_outliers(tX)"
   ]
  },
  {
   "cell_type": "code",
   "execution_count": 66,
   "metadata": {
    "collapsed": true
   },
   "outputs": [],
   "source": [
    "# Standardize the data\n",
    "stx, mean_stx, std_x = standardize(tX)"
   ]
  },
  {
   "cell_type": "code",
   "execution_count": 67,
   "metadata": {
    "collapsed": true
   },
   "outputs": [],
   "source": [
    "# y must be 0 or 1 and not -1 or 1\n",
    "def set_y(y):\n",
    "    y = np.where(y == -1, 0, y)\n",
    "    return y\n",
    "y = set_y(y)"
   ]
  },
  {
   "cell_type": "markdown",
   "metadata": {},
   "source": [
    "Get rid of the Features that do not provide any more information than the background"
   ]
  },
  {
   "cell_type": "code",
   "execution_count": 7,
   "metadata": {
    "collapsed": false
   },
   "outputs": [
    {
     "data": {
      "image/png": "[encoded data removed]",
      "text/plain": [
       "<matplotlib.figure.Figure at 0x7f3d1d441470>"
      ]
     },
     "metadata": {},
     "output_type": "display_data"
    }
   ],
   "source": [
    "idx_f = 2\n",
    "signal = stx[np.where(y == 1), idx_f + 1]\n",
    "background = stx[np.where(y == 0), idx_f + 1]\n",
    "\n",
    "plot = plt.figure()\n",
    "plt.boxplot([signal, background], 0, '')\n",
    "plt.xticks([1, 2], ['Signal', 'Background'])\n",
    "plot.suptitle('Signal and Background distribution of Feature {f}'.format(f = idx_f + 1))\n",
    "\n",
    "textvar = plot.text(0, 0, 'If the plot is similar, it means the signal does not provide more information than the background.')"
   ]
  },
  {
   "cell_type": "markdown",
   "metadata": {},
   "source": [
    "# Remove Features"
   ]
  },
  {
   "cell_type": "code",
   "execution_count": 68,
   "metadata": {
    "collapsed": true
   },
   "outputs": [],
   "source": [
    "def calculate_correlation(stx):\n",
    "    corr = np.ones((stx.shape[1]-1, stx.shape[1]-1))\n",
    "    for feature1 in range(1, stx.shape[1]):\n",
    "        for feature2 in range(1, stx.shape[1]):\n",
    "            corr[feature1-1, feature2-1] = np.corrcoef(stx[:, feature1], stx[:, feature2])[0, 1]\n",
    "            if (corr[feature1-1, feature2-1] >= 0.9 and feature1-1 != feature2-1):\n",
    "                \n",
    "                print(\"Features {f1} and {f2} are highly correlated: {corr}\".format(f1 =feature1-1, f2 = feature2-1, corr = corr[feature1-1, feature2-1]))\n",
    "    return corr"
   ]
  },
  {
   "cell_type": "code",
   "execution_count": 116,
   "metadata": {
    "collapsed": false
   },
   "outputs": [
    {
     "name": "stdout",
     "output_type": "stream",
     "text": [
      "Features 9 and 21 are highly correlated: 0.9044814595684958\n",
      "Features 9 and 29 are highly correlated: 0.9656283889163997\n",
      "Features 21 and 9 are highly correlated: 0.9044814595684957\n",
      "Features 29 and 9 are highly correlated: 0.9656283889163997\n"
     ]
    }
   ],
   "source": [
    "corr = calculate_correlation(stx)"
   ]
  },
  {
   "cell_type": "code",
   "execution_count": 119,
   "metadata": {
    "collapsed": true
   },
   "outputs": [],
   "source": [
    "idx_to_del = np.array([22, 30])"
   ]
  },
  {
   "cell_type": "code",
   "execution_count": 87,
   "metadata": {
    "collapsed": true
   },
   "outputs": [],
   "source": [
    "def calculate_correlation_with_y(stx, y, threshold):\n",
    "    corr = np.ones(stx.shape[1]-1)\n",
    "    for feature in range(1, stx.shape[1]):\n",
    "        corr[feature-1] = np.corrcoef(y, stx[:, feature])[0, 1] \n",
    "        if (abs(corr[feature-1]) <= threshold):\n",
    "            print(\"feature {f} is not correlated with y: {corr}\".format(f = feature-1, corr= corr[feature-1]))\n",
    "    return corr"
   ]
  },
  {
   "cell_type": "code",
   "execution_count": 121,
   "metadata": {
    "collapsed": false
   },
   "outputs": [
    {
     "name": "stdout",
     "output_type": "stream",
     "text": [
      "feature 14 is not correlated with y: -0.0009432510582117535\n",
      "feature 15 is not correlated with y: -0.00440253868638843\n",
      "feature 17 is not correlated with y: 0.001516235377059733\n",
      "feature 18 is not correlated with y: 0.00412544741152486\n",
      "feature 24 is not correlated with y: 7.15909820593841e-05\n",
      "feature 25 is not correlated with y: 0.0009043288374294407\n",
      "feature 27 is not correlated with y: 0.0005721318815439868\n",
      "feature 28 is not correlated with y: -0.003524581655021693\n"
     ]
    }
   ],
   "source": [
    "corr = calculate_correlation_with_y(stx, y, 0.005)"
   ]
  },
  {
   "cell_type": "code",
   "execution_count": 122,
   "metadata": {
    "collapsed": true
   },
   "outputs": [],
   "source": [
    "idx_to_del = np.append(idx_to_del, [ 15, 16, 18, 19, 25, 26, 28, 29])\n",
    "#idx_to_del = np.append(idx_to_del, [ 15, 16, 18, 19, 21, 25, 26, 28, 29])"
   ]
  },
  {
   "cell_type": "code",
   "execution_count": 123,
   "metadata": {
    "collapsed": false
   },
   "outputs": [
    {
     "name": "stdout",
     "output_type": "stream",
     "text": [
      "[30 29 28 26 25 22 19 18 16 15]\n"
     ]
    }
   ],
   "source": [
    "idx_to_del = np.sort(idx_to_del)\n",
    "idx_to_del = idx_to_del[::-1]\n",
    "print(idx_to_del)"
   ]
  },
  {
   "cell_type": "code",
   "execution_count": 124,
   "metadata": {
    "collapsed": true
   },
   "outputs": [],
   "source": [
    "def delete_features(stx):\n",
    "    return np.delete(stx, idx_to_del, 1)"
   ]
  },
  {
   "cell_type": "code",
   "execution_count": 126,
   "metadata": {
    "collapsed": false
   },
   "outputs": [
    {
     "data": {
      "text/plain": [
       "array([ 0.0263822 , -0.35142796, -0.01405527,  0.19252633,  0.20347244,\n",
       "        0.21249463, -0.18361342,  0.01224548, -0.01528743,  0.15323593,\n",
       "       -0.1953979 ,  0.27175188,  0.17514537,  0.23523798, -0.03194759,\n",
       "        0.02246575,  0.00747534,  0.13354912,  0.11545223,  0.02287271])"
      ]
     },
     "execution_count": 126,
     "metadata": {},
     "output_type": "execute_result"
    }
   ],
   "source": [
    "clean_tx = delete_features(np.copy(stx))\n",
    "calculate_correlation_with_y(clean_tx, y, 0.005)"
   ]
  },
  {
   "cell_type": "code",
   "execution_count": 127,
   "metadata": {
    "collapsed": true
   },
   "outputs": [],
   "source": [
    "def build_poly(x, degree):\n",
    "    \"\"\"polynomial basis functions for input data x, for j=0 up to j=degree.\"\"\"\n",
    "    dim = degree+1\n",
    "    N = x.shape[0]\n",
    "    phi = np.ones((N, x.shape[1]))\n",
    "    for j in range(1, dim):\n",
    "        phi = np.concatenate((phi, np.power(x,j)), axis =1)\n",
    "    return phi\n"
   ]
  },
  {
   "cell_type": "code",
   "execution_count": 128,
   "metadata": {
    "collapsed": false
   },
   "outputs": [
    {
     "data": {
      "text/plain": [
       "array([[   1.,    1.,    0.,    9.,    0.,   81.,    0.,  729.],\n",
       "       [   1.,    1.,    1.,    8.,    1.,   64.,    1.,  512.],\n",
       "       [   1.,    1.,    2.,    7.,    4.,   49.,    8.,  343.],\n",
       "       [   1.,    1.,    3.,    6.,    9.,   36.,   27.,  216.],\n",
       "       [   1.,    1.,    4.,    5.,   16.,   25.,   64.,  125.],\n",
       "       [   1.,    1.,    5.,    4.,   25.,   16.,  125.,   64.],\n",
       "       [   1.,    1.,    6.,    3.,   36.,    9.,  216.,   27.],\n",
       "       [   1.,    1.,    7.,    2.,   49.,    4.,  343.,    8.],\n",
       "       [   1.,    1.,    8.,    1.,   64.,    1.,  512.,    1.],\n",
       "       [   1.,    1.,    9.,    0.,   81.,    0.,  729.,    0.]])"
      ]
     },
     "execution_count": 128,
     "metadata": {},
     "output_type": "execute_result"
    }
   ],
   "source": [
    "a = np.array([[0,1,2,3,4,5,6,7,8,9],[9,8,7,6,5,4,3,2,1,0]])\n",
    "build_poly(a.T, 3)"
   ]
  },
  {
   "cell_type": "code",
   "execution_count": 131,
   "metadata": {
    "collapsed": false
   },
   "outputs": [
    {
     "data": {
      "text/plain": [
       "(250000, 84)"
      ]
     },
     "execution_count": 131,
     "metadata": {},
     "output_type": "execute_result"
    }
   ],
   "source": [
    "degree = 3\n",
    "poly_tx = build_poly(clean_tx, degree)\n",
    "poly_tx.shape"
   ]
  },
  {
   "cell_type": "markdown",
   "metadata": {},
   "source": [
    "# Calculate Prediction estimate"
   ]
  },
  {
   "cell_type": "code",
   "execution_count": 97,
   "metadata": {
    "collapsed": false
   },
   "outputs": [],
   "source": [
    "def divide_training_data(y, x, ratio ):\n",
    "    \"\"\"Divide a dataset into 2 disjoint parts. We will use this on the training data set \n",
    "    so that we can train on one and test on the other to check the accuracy of our prediction\n",
    "    \"\"\"\n",
    "    indices = np.random.choice(np.arange(len(y)), int( len(y)*ratio ), replace=False)\n",
    "    \n",
    "    # training data \n",
    "    x_train = x[indices]\n",
    "    y_train = y[indices]\n",
    "    \n",
    "    # test data \n",
    "    x_test = x[~indices]\n",
    "    y_test = y[~indices]\n",
    "    \n",
    "\n",
    "\n",
    "    return x_train, x_test, y_train, y_test"
   ]
  },
  {
   "cell_type": "code",
   "execution_count": 148,
   "metadata": {
    "collapsed": false
   },
   "outputs": [],
   "source": [
    "def prediction( y, tX, gamma, max_iters, lambda_  ):\n",
    "    # divide data\n",
    "    x_train, x_test, y_train, y_test = divide_training_data(y, tX, 0.7 )\n",
    "    \n",
    "    loss = 0\n",
    "    w = []\n",
    "    loss, w = reg_logistic_regression( y_train, x_train, lambda_, gamma, max_iters )\n",
    "    \n",
    "    y_pred = predict_labels(w, x_test)    \n",
    "    y_pred = set_y(y_pred)\n",
    "    \n",
    "    # accuracy of the prediction\n",
    "    N = y_test.shape\n",
    "    print(N, y_pred.shape)\n",
    "    pred = np.sum(y_pred == y_test)/N[0]\n",
    "        \n",
    "    return pred"
   ]
  },
  {
   "cell_type": "code",
   "execution_count": 149,
   "metadata": {
    "collapsed": false
   },
   "outputs": [
    {
     "name": "stdout",
     "output_type": "stream",
     "text": [
      "Current iteration=0, the loss=[[ 121300.75659799]]\n",
      "Current iteration=100, the loss=[ 92591.37756768]\n",
      "Current iteration=200, the loss=[ 87980.84054326]\n",
      "Current iteration=300, the loss=[ 85604.37461214]\n",
      "Current iteration=400, the loss=[ 94019.85737978]\n",
      "Current iteration=500, the loss=[ 85739.60114351]\n",
      "Current iteration=600, the loss=[ 89969.06282963]\n",
      "Current iteration=700, the loss=[ 88951.76534737]\n",
      "Current iteration=800, the loss=[ 87822.10492949]\n",
      "Current iteration=900, the loss=[ 89612.47918474]\n",
      "(175000,) (175000,)\n"
     ]
    },
    {
     "data": {
      "text/plain": [
       "0.79447428571428569"
      ]
     },
     "execution_count": 149,
     "metadata": {},
     "output_type": "execute_result"
    }
   ],
   "source": [
    "prediction(y, poly_tx,  1e-7, 1000, 0.05 )"
   ]
  },
  {
   "cell_type": "markdown",
   "metadata": {},
   "source": [
    "## Linear regression using Gradient Descent "
   ]
  },
  {
   "cell_type": "code",
   "execution_count": 22,
   "metadata": {
    "collapsed": false
   },
   "outputs": [],
   "source": [
    "from costs import *\n",
    "\n",
    "def compute_gradient(y, tx, w):\n",
    "    \"\"\"Compute the gradient.\"\"\"\n",
    "    e = y - tx @ w\n",
    "    return -(tx.T @ e)/len(y)\n",
    "\n",
    "def linear_regression_GD(y, tx, gamma, max_iters):\n",
    "    \"\"\"Gradient descent algorithm.\"\"\"\n",
    "    # Define parameters to store w and loss\n",
    "    w = np.zeros(tx.shape[1])\n",
    "    ws = [np.copy(w)]\n",
    "    losses = []\n",
    "    for n_iter in range(max_iters):\n",
    "        # compute gradient with mse\n",
    "        grad = compute_gradient(y, tx, w)\n",
    "        \n",
    "        # update w\n",
    "        w = w - (gamma*grad)\n",
    "        \n",
    "        # calculate the cost with mse\n",
    "        loss = compute_loss(y, tx, w)\n",
    "        \n",
    "        # store w and loss\n",
    "        ws.append(np.copy(w))\n",
    "        losses.append(loss)\n",
    "    print(\"Optimal weights: {w}\".format(w=ws[tx.shape[1]]), \"\\n Loss: {loss}\".format(loss = loss))\n",
    "    return ( loss, w )\n",
    "\n"
   ]
  },
  {
   "cell_type": "markdown",
   "metadata": {},
   "source": [
    "Loss for Linear Regression using Gradient Descent"
   ]
  },
  {
   "cell_type": "code",
   "execution_count": 49,
   "metadata": {
    "collapsed": false
   },
   "outputs": [
    {
     "name": "stdout",
     "output_type": "stream",
     "text": [
      "Optimal weights: [  1.04648969e-02   3.75362625e-04  -4.99656749e-03  -1.91176313e-04\n",
      "   2.60325480e-03   2.83333842e-03   2.92009580e-03  -2.53973496e-03\n",
      "   2.92672884e-04  -2.91997173e-04   2.02535218e-03  -2.78308290e-03\n",
      "   3.80261289e-03   2.46044555e-03   3.29369359e-03  -1.44874300e-05\n",
      "  -6.42817694e-05  -4.79514601e-04   1.95107674e-05   5.97363034e-05\n",
      "   2.21582085e-04   1.05131123e-04   1.77564564e-03   1.77070788e-03\n",
      "   1.50527857e-03   9.97254502e-07   1.20346588e-05   2.19947304e-04\n",
      "   8.90938540e-06  -4.90302043e-05   1.74571674e-03] \n",
      " Loss: 0.15160026197005938\n"
     ]
    }
   ],
   "source": [
    "gamma = 0.001\n",
    "max_iters = 100\n",
    "losses, ws = linear_regression_GD(y, stx, gamma, max_iters)"
   ]
  },
  {
   "cell_type": "markdown",
   "metadata": {},
   "source": [
    "## Linear regression using stochastic gradient descent"
   ]
  },
  {
   "cell_type": "code",
   "execution_count": 23,
   "metadata": {
    "collapsed": false
   },
   "outputs": [],
   "source": [
    "def linear_regression_SGD(y, tx, gamma, max_iters):\n",
    "    \"\"\"Stochastic gradient descent algorithm.\"\"\"\n",
    "    # Define parameters to store w and loss\n",
    "    w = np.zeros(tx.shape[1])\n",
    "    ws = [np.copy(w)]\n",
    "    losses = []\n",
    "    batch_size = 50000\n",
    "    \n",
    "    for n_iter in range(max_iters):\n",
    "        # compute gradient for each ini batch\n",
    "        a = 0;\n",
    "        for minibatch_y, minibatch_tx in batch_iter(y, tx, batch_size, num_batches=1):\n",
    "            grad = compute_gradient(minibatch_y, minibatch_tx, w)\n",
    "            \n",
    "            # upgrade w\n",
    "            w = w - (gamma*grad)\n",
    "\n",
    "            # compute loss with mse\n",
    "            loss = compute_loss(y, tx, w)\n",
    "\n",
    "            # store w and loss\n",
    "            ws.append(np.copy(w))\n",
    "            losses.append(loss)\n",
    "    print(\"Optimal weights: {w}\\n\\n Loss: {l}\".format(w=ws[tx.shape[1]], l = loss))\n",
    "    return loss, w\n"
   ]
  },
  {
   "cell_type": "code",
   "execution_count": 28,
   "metadata": {
    "collapsed": false
   },
   "outputs": [
    {
     "name": "stdout",
     "output_type": "stream",
     "text": [
      "Optimal weights: [  1.04705105e-02   3.79845674e-04  -4.97651176e-03  -1.94235207e-04\n",
      "   2.63344112e-03   2.81190678e-03   2.90083034e-03  -2.52081839e-03\n",
      "   2.80011928e-04  -2.86502247e-04   2.03850299e-03  -2.76886684e-03\n",
      "   3.82063932e-03   2.45931692e-03   3.29498777e-03  -2.14715757e-05\n",
      "  -6.96247980e-05  -4.62731675e-04   2.84074841e-05   6.06792421e-05\n",
      "   2.59777250e-04   1.27353977e-04   1.78733661e-03   1.77304161e-03\n",
      "   1.52269183e-03   1.33327211e-05   7.02572929e-06   2.16524382e-04\n",
      "   4.10631762e-06  -6.96207410e-05   1.75716700e-03]\n",
      "\n",
      " Loss: 0.15160312268989676\n"
     ]
    }
   ],
   "source": [
    "losses, ws = linear_regression_SGD(y, stx, gamma, max_iters)\n",
    "w_LSSGD = ws[-1]\n",
    "w_LSSGD = w_LSSGD[1:]"
   ]
  },
  {
   "cell_type": "markdown",
   "metadata": {},
   "source": [
    "## Least squares regression using normal equations"
   ]
  },
  {
   "cell_type": "code",
   "execution_count": 24,
   "metadata": {
    "collapsed": false
   },
   "outputs": [
    {
     "data": {
      "text/plain": [
       "(array([  3.42668000e-01,   6.11361314e-03,  -1.26533292e-01,\n",
       "         -1.31728099e-01,   6.46217226e-03,   9.64026088e-03,\n",
       "          5.20573141e-02,   3.57195511e-03,   1.40111528e-01,\n",
       "         -1.38806755e-02,  -1.60323202e+02,  -9.38377506e-02,\n",
       "          6.00765800e-02,   3.72963099e-02,   3.11465307e+01,\n",
       "         -4.00142227e-04,  -4.05770496e-04,   3.07170376e+01,\n",
       "         -3.26073105e-04,   1.27894398e-03,   5.01947429e-02,\n",
       "          4.71663263e-04,  -2.39219337e-02,   2.73366768e-02,\n",
       "         -1.86624775e-02,   2.92313230e-04,   1.24560590e-04,\n",
       "         -9.10599047e-03,   7.58088080e-04,  -8.07604911e-04,\n",
       "          1.35788484e+02]), 0.084989533074598111)"
      ]
     },
     "execution_count": 24,
     "metadata": {},
     "output_type": "execute_result"
    }
   ],
   "source": [
    "def least_squares(y, tx):\n",
    "    \"\"\"calculate the least squares solution.\"\"\"\n",
    "    w = np.linalg.solve(tx.T @ tx, tx.T @ y)\n",
    "    return w, compute_loss(y, tx, w)\n",
    "\n",
    "least_squares(y, stx)"
   ]
  },
  {
   "cell_type": "markdown",
   "metadata": {},
   "source": [
    "## Ridge regression using normal equations"
   ]
  },
  {
   "cell_type": "code",
   "execution_count": 26,
   "metadata": {
    "collapsed": false,
    "scrolled": true
   },
   "outputs": [
    {
     "name": "stdout",
     "output_type": "stream",
     "text": [
      "0.0804883654696 [  1.56726458e-02   1.56726458e-02   1.56726458e-02   1.56726458e-02\n",
      "   1.56726458e-02   1.56726458e-02   1.56726458e-02   1.56726457e-02\n",
      "   1.56726457e-02   1.56726457e-02   1.56726457e-02   1.56726457e-02\n",
      "   1.56726457e-02   1.56726457e-02   1.56726457e-02   1.56726457e-02\n",
      "   1.56726457e-02   1.56726457e-02   1.56726457e-02   1.56726458e-02\n",
      "   7.14113814e-02  -1.27044839e-01  -1.69367162e-01   6.52987288e-02\n",
      "   3.15068257e-02   8.36787405e-03   3.20595673e-02   1.35198187e-01\n",
      "  -5.27702483e-03  -3.27233246e-02  -9.95378771e-02   2.06527254e-02\n",
      "   3.85748775e-02   1.09789838e-01   1.33741205e-01   9.69723532e-03\n",
      "  -7.83463060e-03   2.21650189e-02   1.25279975e-02   1.56726458e-02\n",
      "  -9.81925605e-03   1.83773578e-02   8.97138450e-03  -2.98324741e-04\n",
      "   2.39493400e-02  -9.86790493e-04  -3.33297567e-03  -3.25166325e-02\n",
      "   4.52597746e-04  -5.34438978e-03   9.61532709e-03   3.04258916e-02\n",
      "   1.05091740e-02  -8.09973375e-03  -1.05490955e-02  -1.28285789e-03\n",
      "  -2.88630621e-02  -3.42322691e-03   8.50592939e-05]\n"
     ]
    }
   ],
   "source": [
    "def ridge_regression(y, tx, lamb):\n",
    "    \"\"\"implement ridge regression.\"\"\"\n",
    "    w = np.linalg.solve((tx.T @ tx) + lamb*np.eye(tx.shape[1]), tx.T @ y)\n",
    "    return w, compute_loss(y, tx, w)\n",
    "\n",
    "lamb = 0\n",
    "weights, loss = ridge_regression(y, poly_tx, 0.1)\n",
    "w = weights[1:]\n",
    "print(loss, w)"
   ]
  },
  {
   "cell_type": "markdown",
   "metadata": {},
   "source": [
    "## Logistic regression using gradient or SGD"
   ]
  },
  {
   "cell_type": "code",
   "execution_count": 27,
   "metadata": {
    "collapsed": false
   },
   "outputs": [],
   "source": [
    "def sigmoid(t):\n",
    "    \"\"\"apply sigmoid function on t.\"\"\"\n",
    "    # equivalent to use 1/(1+exp(-t)) but avoids overflow\n",
    "    return np.exp(-np.logaddexp(0, -t))"
   ]
  },
  {
   "cell_type": "code",
   "execution_count": 28,
   "metadata": {
    "collapsed": false
   },
   "outputs": [],
   "source": [
    "def calculate_loss(y, tx, w):\n",
    "    \"\"\"compute the cost by negative log likelihood.\"\"\"\n",
    "    #for n in range(N):\n",
    "    #   cost += np.log(1+np.exp(tx[n, :].T @ w)) - (y[n] * tx[n, :].T @ w)\n",
    "    y = y.reshape((-1, 1))\n",
    "    return np.sum(np.logaddexp(0, tx @ w)) - y.T @ (tx @ w)"
   ]
  },
  {
   "cell_type": "code",
   "execution_count": 29,
   "metadata": {
    "collapsed": true
   },
   "outputs": [],
   "source": [
    "def calculate_gradient(y, tx, w):\n",
    "    \"\"\"compute the gradient of loss.\"\"\"\n",
    "    sig = sigmoid(tx @ w)\n",
    "    sig = sig.reshape(sig.shape[0],)\n",
    "    return tx.T @ (sig - y)"
   ]
  },
  {
   "cell_type": "code",
   "execution_count": 30,
   "metadata": {
    "collapsed": false
   },
   "outputs": [],
   "source": [
    "def learning_by_gradient_descent(y, tx, w, gamma, lambda_):\n",
    "    \"\"\"\n",
    "    Do one step of gradient descent using logistic regression.\n",
    "    Return the loss and the updated w.\n",
    "    \"\"\"\n",
    "    loss = calculate_loss(y, tx, w) + lambda_* (w.T @ w)\n",
    "    gradient = calculate_gradient(y, tx, w)\n",
    "    \n",
    "    w.shape = (w.shape[0],)\n",
    "    w = w - gamma * gradient\n",
    "    return loss, w"
   ]
  },
  {
   "cell_type": "code",
   "execution_count": 31,
   "metadata": {
    "collapsed": false
   },
   "outputs": [],
   "source": [
    "def logistic_regression(y, tx, gamma, max_iters):\n",
    "    \"\"\"\n",
    "    Logistic regression using GD\n",
    "    \"\"\"\n",
    "    # init parameters\n",
    "    threshold = 0.000001\n",
    "    losses = []\n",
    "\n",
    "    # build w\n",
    "    w = np.zeros((tx.shape[1], 1))\n",
    "    \n",
    "    # y must be 0 or 1 and not -1 or 1(as implemented in the lab)\n",
    "    y = np.where(y == -1, 0, y)\n",
    "\n",
    "    # start the logistic regression\n",
    "    for iter in range(max_iters):\n",
    "        # get loss and update w.\n",
    "        loss, w = learning_by_gradient_descent(y, tx, w, gamma, lambda_ = 0)\n",
    "        # log info\n",
    "        if iter % 100 == 0:\n",
    "            print(\"Current iteration={i}, the loss={l}\".format(i=iter, l=loss))\n",
    "        # converge criteria ( max_iters is really high)\n",
    "        losses.append(np.copy(loss))\n",
    "        if len(losses) > 1 and np.abs(losses[-1] - losses[-2]) < threshold:\n",
    "            break\n",
    "    return loss, w\n",
    "\n"
   ]
  },
  {
   "cell_type": "code",
   "execution_count": 93,
   "metadata": {
    "collapsed": false
   },
   "outputs": [
    {
     "name": "stdout",
     "output_type": "stream",
     "text": [
      "Current iteration=0, the loss=[[ 173286.79513999]]\n",
      "Current iteration=100, the loss=[ 127154.28072546]\n",
      "Current iteration=200, the loss=[ 126618.79402675]\n",
      "Current iteration=300, the loss=[ 126464.35203379]\n",
      "Current iteration=400, the loss=[ 126413.43974288]\n",
      "Current iteration=500, the loss=[ 126395.1711419]\n",
      "Current iteration=600, the loss=[ 126388.06668287]\n",
      "Current iteration=700, the loss=[ 126385.07913351]\n",
      "Current iteration=800, the loss=[ 126383.72395774]\n",
      "Current iteration=900, the loss=[ 126383.06264566]\n"
     ]
    }
   ],
   "source": [
    "max_iters = 10000\n",
    "gamma = 0.000001\n",
    "loss_LR, w_LR = logistic_regression(y, poly_tx, gamma, max_iters)"
   ]
  },
  {
   "cell_type": "markdown",
   "metadata": {},
   "source": [
    "## Regularized  logistic  regression  using  gradient  descent or SGD"
   ]
  },
  {
   "cell_type": "code",
   "execution_count": 48,
   "metadata": {
    "collapsed": false
   },
   "outputs": [],
   "source": [
    "def reg_logistic_regression(y, tx, lambda_, gamma, max_iters):\n",
    "    \"\"\"\n",
    "    Logistic regression using GD\n",
    "    \"\"\"\n",
    "    # init parameters\n",
    "    threshold = 1e-4\n",
    "    losses = []\n",
    "\n",
    "    # build w\n",
    "    w = np.zeros((tx.shape[1], 1))\n",
    "\n",
    "    # start the logistic regression\n",
    "    for iter in range(max_iters):\n",
    "        # get loss and update w.\n",
    "        loss, w = learning_by_gradient_descent(y, tx, w, gamma, lambda_)\n",
    "        # log info\n",
    "        if iter % 100 == 0:\n",
    "            print(\"Current iteration={i}, the loss={l}\".format(i=iter, l=loss))\n",
    "        # converge criteria ( max_iters is really high)\n",
    "        losses.append(np.copy(loss))\n",
    "        if len(losses) > 1 and np.abs(losses[-1] - losses[-2]) < threshold:\n",
    "            break\n",
    "    return loss, w\n",
    "\n"
   ]
  },
  {
   "cell_type": "code",
   "execution_count": 150,
   "metadata": {
    "collapsed": false
   },
   "outputs": [
    {
     "name": "stdout",
     "output_type": "stream",
     "text": [
      "Current iteration=0, the loss=[[ 173286.79513999]]\n",
      "Current iteration=100, the loss=[ 141323.29314839]\n",
      "Current iteration=200, the loss=[ 219165.80385852]\n",
      "Current iteration=300, the loss=[ 140069.35426803]\n",
      "Current iteration=400, the loss=[ 145746.1922003]\n",
      "Current iteration=500, the loss=[ 136910.76486583]\n",
      "Current iteration=600, the loss=[ 136533.62539239]\n",
      "Current iteration=700, the loss=[ 136305.44432451]\n",
      "Current iteration=800, the loss=[ 131669.93980288]\n",
      "Current iteration=900, the loss=[ 131122.87487126]\n",
      "Current iteration=1000, the loss=[ 127021.54606952]\n",
      "Current iteration=1100, the loss=[ 123287.66436529]\n",
      "Current iteration=1200, the loss=[ 119477.28381908]\n",
      "Current iteration=1300, the loss=[ 130379.4747004]\n",
      "Current iteration=1400, the loss=[ 136867.46784882]\n",
      "Current iteration=1500, the loss=[ 129828.87757552]\n",
      "Current iteration=1600, the loss=[ 135338.13974367]\n",
      "Current iteration=1700, the loss=[ 143708.75796054]\n",
      "Current iteration=1800, the loss=[ 157296.43221419]\n",
      "Current iteration=1900, the loss=[ 131804.47863799]\n",
      "Current iteration=2000, the loss=[ 131649.57962284]\n",
      "Current iteration=2100, the loss=[ 121528.6510634]\n",
      "Current iteration=2200, the loss=[ 134143.23082241]\n",
      "Current iteration=2300, the loss=[ 117547.55704504]\n",
      "Current iteration=2400, the loss=[ 135375.12694828]\n",
      "Current iteration=2500, the loss=[ 131442.43374648]\n",
      "Current iteration=2600, the loss=[ 143373.79319256]\n",
      "Current iteration=2700, the loss=[ 156095.43764767]\n",
      "Current iteration=2800, the loss=[ 172007.5543744]\n",
      "Current iteration=2900, the loss=[ 120733.20439857]\n",
      "Current iteration=3000, the loss=[ 120041.85209259]\n",
      "Current iteration=3100, the loss=[ 118882.30864369]\n",
      "Current iteration=3200, the loss=[ 128435.63985805]\n",
      "Current iteration=3300, the loss=[ 148749.01453753]\n",
      "Current iteration=3400, the loss=[ 132056.93696084]\n",
      "Current iteration=3500, the loss=[ 159631.33443631]\n",
      "Current iteration=3600, the loss=[ 134667.4743822]\n",
      "Current iteration=3700, the loss=[ 123483.8240054]\n",
      "Current iteration=3800, the loss=[ 134519.37120328]\n",
      "Current iteration=3900, the loss=[ 130972.07373378]\n",
      "Current iteration=4000, the loss=[ 128288.56857962]\n",
      "Current iteration=4100, the loss=[ 131154.22642889]\n",
      "Current iteration=4200, the loss=[ 143446.9902208]\n",
      "Current iteration=4300, the loss=[ 140598.24119525]\n",
      "Current iteration=4400, the loss=[ 122101.95279087]\n",
      "Current iteration=4500, the loss=[ 122375.610546]\n",
      "Current iteration=4600, the loss=[ 156158.74908136]\n",
      "Current iteration=4700, the loss=[ 129369.208945]\n",
      "Current iteration=4800, the loss=[ 121309.87987006]\n",
      "Current iteration=4900, the loss=[ 131544.01135348]\n",
      "Current iteration=5000, the loss=[ 120931.46334386]\n",
      "Current iteration=5100, the loss=[ 125219.34112401]\n",
      "Current iteration=5200, the loss=[ 130669.30248815]\n",
      "Current iteration=5300, the loss=[ 125838.33245141]\n",
      "Current iteration=5400, the loss=[ 204686.70463482]\n",
      "Current iteration=5500, the loss=[ 134777.73569709]\n",
      "Current iteration=5600, the loss=[ 119539.55810372]\n",
      "Current iteration=5700, the loss=[ 133635.53453451]\n",
      "Current iteration=5800, the loss=[ 122067.97314108]\n",
      "Current iteration=5900, the loss=[ 140850.80280869]\n",
      "Current iteration=6000, the loss=[ 143739.85662078]\n",
      "Current iteration=6100, the loss=[ 129381.97153078]\n",
      "Current iteration=6200, the loss=[ 114367.6542135]\n",
      "Current iteration=6300, the loss=[ 120293.20857478]\n",
      "Current iteration=6400, the loss=[ 140366.48613549]\n",
      "Current iteration=6500, the loss=[ 131285.59880779]\n",
      "Current iteration=6600, the loss=[ 114978.27183527]\n",
      "Current iteration=6700, the loss=[ 129740.13873095]\n",
      "Current iteration=6800, the loss=[ 127784.13001029]\n",
      "Current iteration=6900, the loss=[ 131122.18965138]\n",
      "Current iteration=7000, the loss=[ 133101.64360021]\n",
      "Current iteration=7100, the loss=[ 136163.28662229]\n",
      "Current iteration=7200, the loss=[ 127859.74610441]\n",
      "Current iteration=7300, the loss=[ 137441.67687338]\n",
      "Current iteration=7400, the loss=[ 138612.74407975]\n",
      "Current iteration=7500, the loss=[ 131010.16923656]\n",
      "Current iteration=7600, the loss=[ 123871.47926101]\n",
      "Current iteration=7700, the loss=[ 131173.82825643]\n",
      "Current iteration=7800, the loss=[ 130185.84945978]\n",
      "Current iteration=7900, the loss=[ 152058.75525215]\n",
      "Current iteration=8000, the loss=[ 127829.12505076]\n",
      "Current iteration=8100, the loss=[ 119079.46814671]\n",
      "Current iteration=8200, the loss=[ 131216.87671518]\n",
      "Current iteration=8300, the loss=[ 121960.52958251]\n",
      "Current iteration=8400, the loss=[ 172744.28752004]\n",
      "Current iteration=8500, the loss=[ 121151.14020982]\n",
      "Current iteration=8600, the loss=[ 134874.84326951]\n",
      "Current iteration=8700, the loss=[ 131665.60047586]\n",
      "Current iteration=8800, the loss=[ 169050.45577958]\n",
      "Current iteration=8900, the loss=[ 128227.81657758]\n",
      "Current iteration=9000, the loss=[ 113537.26914057]\n",
      "Current iteration=9100, the loss=[ 131882.09770803]\n",
      "Current iteration=9200, the loss=[ 127735.49931621]\n",
      "Current iteration=9300, the loss=[ 116873.68377317]\n",
      "Current iteration=9400, the loss=[ 203388.8187644]\n",
      "Current iteration=9500, the loss=[ 155953.04817281]\n",
      "Current iteration=9600, the loss=[ 141776.23461284]\n",
      "Current iteration=9700, the loss=[ 118858.65285244]\n",
      "Current iteration=9800, the loss=[ 118002.69630565]\n",
      "Current iteration=9900, the loss=[ 142432.65123082]\n"
     ]
    }
   ],
   "source": [
    "gamma = 1e-7\n",
    "max_iters = 10000\n",
    "lambda_ = 0.07\n",
    "loss, w = reg_logistic_regression(y, poly_tx, lambda_, gamma, max_iters)"
   ]
  },
  {
   "cell_type": "markdown",
   "metadata": {},
   "source": [
    "## Cross Validation"
   ]
  },
  {
   "cell_type": "markdown",
   "metadata": {},
   "source": [
    "Take the minimum of rmse_te"
   ]
  },
  {
   "cell_type": "code",
   "execution_count": null,
   "metadata": {
    "collapsed": false,
    "scrolled": true
   },
   "outputs": [],
   "source": [
    "from cross_validation import *\n",
    "seed = 1\n",
    "k_fold = 4\n",
    "lambdas = np.logspace(-4, 2, 30)\n",
    "cross_validation_demo(y, stx, k_fold, lambdas, seed)"
   ]
  },
  {
   "cell_type": "markdown",
   "metadata": {},
   "source": [
    "## Generate predictions and save ouput in csv format for submission:"
   ]
  },
  {
   "cell_type": "code",
   "execution_count": 151,
   "metadata": {
    "collapsed": false
   },
   "outputs": [],
   "source": [
    "DATA_TEST_PATH = '../Data/test.csv' # TODO: download train data and supply path here \n",
    "_, tX_test, ids_test = load_csv_data(DATA_TEST_PATH)"
   ]
  },
  {
   "cell_type": "code",
   "execution_count": 152,
   "metadata": {
    "collapsed": true
   },
   "outputs": [],
   "source": [
    "tX_test = delete_outliers(tX_test)\n"
   ]
  },
  {
   "cell_type": "code",
   "execution_count": 153,
   "metadata": {
    "collapsed": true
   },
   "outputs": [],
   "source": [
    "stx_test, mean_stx_test, std_x_test = standardize(tX_test)"
   ]
  },
  {
   "cell_type": "code",
   "execution_count": 154,
   "metadata": {
    "collapsed": true
   },
   "outputs": [],
   "source": [
    "clean_test = delete_features(stx_test)"
   ]
  },
  {
   "cell_type": "code",
   "execution_count": 155,
   "metadata": {
    "collapsed": false
   },
   "outputs": [
    {
     "name": "stdout",
     "output_type": "stream",
     "text": [
      "(568238, 84)\n"
     ]
    }
   ],
   "source": [
    "poly_test = build_poly(clean_test, degree)\n",
    "print(poly_test.shape)"
   ]
  },
  {
   "cell_type": "code",
   "execution_count": 157,
   "metadata": {
    "collapsed": false
   },
   "outputs": [],
   "source": [
    "OUTPUT_PATH = '../Data/Data_submission.csv' # TODO: fill in desired name of output file for submission\n",
    "y_pred = predict_labels(w, poly_test)\n",
    "create_csv_submission(ids_test, y_pred, OUTPUT_PATH)"
   ]
  },
  {
   "cell_type": "code",
   "execution_count": null,
   "metadata": {
    "collapsed": true
   },
   "outputs": [],
   "source": []
  }
 ],
 "metadata": {
  "anaconda-cloud": {},
  "kernelspec": {
   "display_name": "Python [conda root]",
   "language": "python",
   "name": "conda-root-py"
  },
  "language_info": {
   "codemirror_mode": {
    "name": "ipython",
    "version": 3
   },
   "file_extension": ".py",
   "mimetype": "text/x-python",
   "name": "python",
   "nbconvert_exporter": "python",
   "pygments_lexer": "ipython3",
   "version": "3.5.2"
  }
 },
 "nbformat": 4,
 "nbformat_minor": 0
}
